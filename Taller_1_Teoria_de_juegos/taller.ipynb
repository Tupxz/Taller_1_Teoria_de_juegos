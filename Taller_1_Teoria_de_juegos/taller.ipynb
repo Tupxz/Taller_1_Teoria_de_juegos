{
  "cells": [
    {
      "cell_type": "markdown",
      "metadata": {},
      "source": [
        "# Taller 1 – Teoría de juegos\n",
        "\n",
        "**Curso:** (complete aquí)  \n",
        "**Autor:** (su nombre)  \n",
        "**Fecha:** (aaaa-mm-dd)\n",
        "\n",
        "## Instrucciones\n",
        "1. Lea cada ejercicio y responda debajo del enunciado.\n",
        "2. Ejecute las celdas de código en orden (Ctrl+Enter o ▶).\n",
        "3. Incluya interpretación breve de resultados numéricos o gráficos.\n"
      ]
    },
    {
      "cell_type": "markdown",
      "metadata": {},
      "source": [
        "## Ejercicio 1: Matriz de pagos y estrategias dominantes\n",
        "**Enunciado (ejemplo):** Considere el siguiente juego estático de dos jugadores con estrategias {A, B} para ambos.\n",
        "\n",
        "1. Construya la matriz de pagos con `pandas.DataFrame`.\n",
        "2. Determine si existe estrategia estrictamente dominante para alguno de los jugadores.\n",
        "3. Argumente su respuesta.\n"
      ]
    },
    {
      "cell_type": "code",
      "execution_count": null,
      "metadata": {},
      "outputs": [],
      "source": [
        "import numpy as np\n",
        "import pandas as pd\n",
        "import matplotlib.pyplot as plt\n",
        "\n",
        "# Matriz de pagos (u1, u2) para estrategias (Fila del Jugador 1, Columna del Jugador 2)\n",
        "pagos = pd.DataFrame(\n",
        "    {\n",
        "        ('A','A'): (2,2), ('A','B'): (0,3),\n",
        "        ('B','A'): (3,0), ('B','B'): (1,1),\n",
        "    }, index=['u1','u2']\n",
        ").T\n",
        "pagos.index.names = ['J1','J2']\n",
        "pagos\n"
      ]
    },
    {
      "cell_type": "markdown",
      "metadata": {},
      "source": [
        "### Discusión\n",
        "- Analice si alguna fila domina a la otra para el Jugador 1, y si alguna columna domina a la otra para el Jugador 2.\n",
        "- Concluya sobre estrategias dominantes.\n"
      ]
    },
    {
      "cell_type": "markdown",
      "metadata": {},
      "source": [
        "## Ejercicio 2: Equilibrios de Nash en estrategias puras\n",
        "**Enunciado (ejemplo):** Identifique los perfiles de estrategias que constituyen un equilibrio de Nash puro.\n",
        "\n",
        "Sugerencia: Un perfil es equilibrio de Nash si ningún jugador puede mejorar su pago con un desvío unilateral.\n"
      ]
    },
    {
      "cell_type": "code",
      "execution_count": null,
      "metadata": {},
      "outputs": [],
      "source": [
        "# Búsqueda automática (simple) de equilibrios de Nash puros para el juego 2x2 anterior\n",
        "acciones = ['A','B']\n",
        "def pago(j1, j2, jugador=1):\n",
        "    return pagos.loc[(j1, j2), f'u{jugador}']\n",
        "\n",
        "nash_puros = []\n",
        "for a1 in acciones:\n",
        "    for a2 in acciones:\n",
        "        # Mejor respuesta de J1 dado a2\n",
        "        br1_val = max(pago(x, a2, 1) for x in acciones)\n",
        "        br1 = [x for x in acciones if pago(x, a2, 1) == br1_val]\n",
        "        # Mejor respuesta de J2 dado a1\n",
        "        br2_val = max(pago(a1, y, 2) for y in acciones)\n",
        "        br2 = [y for y in acciones if pago(a1, y, 2) == br2_val]\n",
        "        if a1 in br1 and a2 in br2:\n",
        "            nash_puros.append((a1,a2))\n",
        "\n",
        "nash_puros\n"
      ]
    },
    {
      "cell_type": "markdown",
      "metadata": {},
      "source": [
        "### Conclusión del Ejercicio 2\n",
        "Interprete los perfiles encontrados y explique por qué cumplen la condición de equilibrio de Nash.\n"
      ]
    },
    {
      "cell_type": "markdown",
      "metadata": {},
      "source": [
        "## (Opcional) Ejercicio 3: Visualización de mejores respuestas\n",
        "Genere un gráfico que muestre, para cada acción del oponente, la(s) mejor(es) respuesta(s) del jugador.\n"
      ]
    },
    {
      "cell_type": "code",
      "execution_count": null,
      "metadata": {},
      "outputs": [],
      "source": [
        "# Ejemplo simple de visualización de mejores respuestas de J1\n",
        "fig, ax = plt.subplots()\n",
        "ax.set_title('Mejor respuesta de J1 (dado J2)')\n",
        "ax.set_xlabel('Acción de J2')\n",
        "ax.set_ylabel('Pago de J1')\n",
        "for a1 in acciones:\n",
        "    ys = [pago(a1, a2, 1) for a2 in acciones]\n",
        "    ax.plot(acciones, ys, marker='o', label=f'J1 elige {a1}')\n",
        "ax.legend(); plt.show()\n"
      ]
    }
  ],
  "metadata": {
    "kernelspec": {
      "display_name": "Python 3",
      "language": "python",
      "name": "python3"
    },
    "language_info": {
      "name": "python",
      "version": "3.11"
    }
  },
  "nbformat": 4,
  "nbformat_minor": 5
}